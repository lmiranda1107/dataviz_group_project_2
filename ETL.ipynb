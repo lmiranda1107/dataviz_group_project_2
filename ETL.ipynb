{
 "cells": [
  {
   "cell_type": "markdown",
   "metadata": {},
   "source": [
    "# ETL Process"
   ]
  },
  {
   "cell_type": "code",
   "execution_count": 28,
   "metadata": {},
   "outputs": [],
   "source": [
    "#Dependencies - Modules\n",
    "import os\n",
    "import csv\n",
    "\n",
    "#Dependencies\n",
    "import pandas as pd\n",
    "import numpy as np\n",
    "\n"
   ]
  },
  {
   "cell_type": "code",
   "execution_count": 29,
   "metadata": {},
   "outputs": [
    {
     "data": {
      "text/plain": [
       "'\\ncsvpath = os.path.join(\\'.\\', \\'Resources\\', \\'ORG_OTC_FCT_DET_reduced.csv\\')\\nwith open(csvpath, newline=\\'\\') as csvfile:\\n\\n    # CSV reader specifies delimiter and variable that holds contents\\n    csvreader = csv.reader(csvfile, delimiter=\\',\\')\\n\\n    print(csvreader)\\n\\n    # Read the header row first (skip this step if there is now header)\\n    csv_header = next(csvreader)\\n    print(f\"CSV Header: {csv_header}\")\\n\\n    # Read each row of data after the header\\n    for row in csvreader:\\n        print(row)\\n'"
      ]
     },
     "execution_count": 29,
     "metadata": {},
     "output_type": "execute_result"
    }
   ],
   "source": [
    "#Simple csv reading\n",
    "'''\n",
    "csvpath = os.path.join('.', 'Resources', 'ORG_OTC_FCT_DET_reduced.csv')\n",
    "with open(csvpath, newline='') as csvfile:\n",
    "\n",
    "    # CSV reader specifies delimiter and variable that holds contents\n",
    "    csvreader = csv.reader(csvfile, delimiter=',')\n",
    "\n",
    "    print(csvreader)\n",
    "\n",
    "    # Read the header row first (skip this step if there is now header)\n",
    "    csv_header = next(csvreader)\n",
    "    print(f\"CSV Header: {csv_header}\")\n",
    "\n",
    "    # Read each row of data after the header\n",
    "    for row in csvreader:\n",
    "        print(row)\n",
    "'''"
   ]
  },
  {
   "cell_type": "code",
   "execution_count": 30,
   "metadata": {},
   "outputs": [],
   "source": [
    "#Using pandas to create df\n",
    "#loading csv - the correct encoding must be used to read the CSV in pandas\n",
    "file_to_load = \"Resources/ORG_OTC_FCT_DET_reduced.csv\"\n",
    "original_organ_transp_data = pd.read_csv(file_to_load,encoding=\"ISO-8859-1\")\n",
    "#print(original_organ_transp_data.head)\n",
    "\n"
   ]
  },
  {
   "cell_type": "code",
   "execution_count": 31,
   "metadata": {},
   "outputs": [],
   "source": [
    "#Renamed columns to load csv into MySQL - need to use '_' in between spaces\n",
    "original_organ_transp_data.columns = original_organ_transp_data.columns.str.strip().str.lower().str.replace(' ', '_')\n",
    "#original_organ_transp_data\n"
   ]
  },
  {
   "cell_type": "code",
   "execution_count": 32,
   "metadata": {},
   "outputs": [],
   "source": [
    "#store csv to lead into mysql\n",
    "#original_organ_transp_data.to_csv('resources/organ_data.csv')\n"
   ]
  },
  {
   "cell_type": "markdown",
   "metadata": {},
   "source": [
    "# MySQL Process"
   ]
  },
  {
   "cell_type": "code",
   "execution_count": 33,
   "metadata": {},
   "outputs": [],
   "source": [
    "# SQL Alchemy\n",
    "from sqlalchemy import create_engine\n",
    "\n",
    "# Allow us to declare column types\n",
    "from sqlalchemy import Column, Integer, String, Float \n",
    "\n",
    "# PyMySQL \n",
    "import pymysql\n",
    "pymysql.install_as_MySQLdb()\n",
    "\n"
   ]
  },
  {
   "cell_type": "code",
   "execution_count": 34,
   "metadata": {},
   "outputs": [],
   "source": [
    "# Create Engine and Pass in MySQL Connection - exercise 10-1-10 Creating Sqlite \n",
    "engine = create_engine('sqlite:///db/organ_transplant.sqlite')\n",
    "conn = engine.connect()\n"
   ]
  }
 ],
 "metadata": {
  "kernelspec": {
   "display_name": "Python 3",
   "language": "python",
   "name": "python3"
  },
  "language_info": {
   "codemirror_mode": {
    "name": "ipython",
    "version": 3
   },
   "file_extension": ".py",
   "mimetype": "text/x-python",
   "name": "python",
   "nbconvert_exporter": "python",
   "pygments_lexer": "ipython3",
   "version": "3.7.1"
  }
 },
 "nbformat": 4,
 "nbformat_minor": 2
}
